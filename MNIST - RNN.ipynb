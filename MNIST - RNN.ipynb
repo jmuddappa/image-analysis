{
 "cells": [
  {
   "cell_type": "code",
   "execution_count": 19,
   "metadata": {},
   "outputs": [
    {
     "name": "stdout",
     "output_type": "stream",
     "text": [
      "Extracting MNIST_data/train-images-idx3-ubyte.gz\n",
      "Extracting MNIST_data/train-labels-idx1-ubyte.gz\n",
      "Extracting MNIST_data/t10k-images-idx3-ubyte.gz\n",
      "Extracting MNIST_data/t10k-labels-idx1-ubyte.gz\n",
      "Average loss epoch 1: 2.5553553104400635\n",
      "Average loss epoch 200: 0.5510718822479248\n",
      "Average loss epoch 400: 0.2515178322792053\n",
      "Average loss epoch 600: 0.21879467368125916\n",
      "Average loss epoch 800: 0.21018564701080322\n",
      "Average loss epoch 1000: 0.12655311822891235\n",
      "Average loss epoch 1200: 0.16527174413204193\n",
      "Average loss epoch 1400: 0.12723402678966522\n",
      "Average loss epoch 1600: 0.049125976860523224\n",
      "Average loss epoch 1800: 0.0835292786359787\n",
      "Average loss epoch 2000: 0.0723661482334137\n",
      "Optimization Finished!\n",
      "Accuracy: 0.984375\n"
     ]
    }
   ],
   "source": [
    "import tensorflow as tf\n",
    "from tensorflow.contrib import rnn\n",
    "from tensorflow.examples.tutorials.mnist import input_data\n",
    "mnist = input_data.read_data_sets(\"MNIST_data\", one_hot=True)\n",
    "tf.reset_default_graph()\n",
    "#training paramaters\n",
    "learning_rate = 0.001\n",
    "training_steps = 2000\n",
    "batch_size = 128\n",
    "display_step = 200\n",
    "\n",
    "#network paramters\n",
    "num_input = 28\n",
    "timesteps = 28\n",
    "num_hidden = 128\n",
    "num_classes = 10\n",
    "\n",
    "#variables\n",
    "X = tf.placeholder(\"float\",[None,timesteps,num_input])\n",
    "Y = tf.placeholder(\"float\",[None,num_classes])\n",
    "\n",
    "#define weights\n",
    "w = tf.Variable(tf.random_normal(shape=[num_hidden, num_classes], stddev=0.01), name='weights')\n",
    "b = tf.Variable(tf.random_normal([num_classes]), name=\"bias\")\n",
    "\n",
    "def RNN(x,w,b):\n",
    "    x = tf.unstack(x,timesteps,1)\n",
    "    lstm_cell = rnn.BasicLSTMCell(num_hidden,forget_bias=1.0)\n",
    "    outputs,states=rnn.static_rnn(lstm_cell,x,dtype=tf.float32)\n",
    "    return tf.matmul(outputs[-1],w)+b\n",
    "\n",
    "logits = RNN(X,w,b)\n",
    "prediction = tf.nn.softmax(logits)\n",
    "\n",
    "entropy = tf.nn.softmax_cross_entropy_with_logits(logits=logits, labels=Y, name='loss')\n",
    "loss = tf.reduce_mean(entropy) # computes the mean over all the examples in the batch\n",
    "\n",
    "correct_pred = tf.equal(tf.argmax(prediction, 1), tf.argmax(Y, 1))\n",
    "accuracy = tf.reduce_mean(tf.cast(correct_pred, tf.float32))\n",
    "\n",
    "optimizer = tf.train.AdamOptimizer(learning_rate).minimize(loss)\n",
    "\n",
    "with tf.Session() as sess:\n",
    "    writer = tf.summary.FileWriter('./graphs/q5', sess.graph) # to visualize using TensorBoard\n",
    "    sess.run(tf.global_variables_initializer())\n",
    "    for i in range(1,training_steps+1):\n",
    "        batch_x,batch_y = mnist.train.next_batch(batch_size)\n",
    "        #reshape to get batch in format for RNN - IMPORTANT\n",
    "        batch_x = batch_x.reshape((batch_size,timesteps,num_input))\n",
    "        sess.run(optimizer, feed_dict={X: batch_x, Y: batch_y})\n",
    "        if(i%200==0 or i==1):\n",
    "            loss1,acc = sess.run([loss,accuracy],feed_dict={X:batch_x,Y:batch_y})\n",
    "            print('Average loss epoch {0}: {1}'.format(i, loss1))\n",
    "\n",
    "    print(\"Optimization Finished!\")\n",
    "    # Calculate accuracy for 128 mnist test images\n",
    "    test_len = 128\n",
    "    test_data = mnist.test.images[:test_len].reshape((-1, timesteps, num_input))\n",
    "    test_label = mnist.test.labels[:test_len]\n",
    "    print(\"Accuracy:\", \n",
    "        sess.run(accuracy, feed_dict={X: test_data, Y: test_label}))\n",
    "    writer.close()"
   ]
  },
  {
   "cell_type": "code",
   "execution_count": 15,
   "metadata": {
    "collapsed": true
   },
   "outputs": [],
   "source": []
  },
  {
   "cell_type": "code",
   "execution_count": null,
   "metadata": {
    "collapsed": true
   },
   "outputs": [],
   "source": []
  }
 ],
 "metadata": {
  "kernelspec": {
   "display_name": "Python 3",
   "language": "python",
   "name": "python3"
  },
  "language_info": {
   "codemirror_mode": {
    "name": "ipython",
    "version": 3
   },
   "file_extension": ".py",
   "mimetype": "text/x-python",
   "name": "python",
   "nbconvert_exporter": "python",
   "pygments_lexer": "ipython3",
   "version": "3.6.2"
  }
 },
 "nbformat": 4,
 "nbformat_minor": 2
}
